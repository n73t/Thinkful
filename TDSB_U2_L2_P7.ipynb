{
 "cells": [
  {
   "cell_type": "code",
   "execution_count": 1,
   "metadata": {
    "collapsed": true
   },
   "outputs": [],
   "source": [
    "%matplotlib inline\n",
    "import numpy as np\n",
    "import pandas as pd\n",
    "import scipy\n",
    "import sklearn\n",
    "import matplotlib.pyplot as plt\n",
    "import seaborn as sns"
   ]
  },
  {
   "cell_type": "code",
   "execution_count": 2,
   "metadata": {
    "collapsed": true
   },
   "outputs": [],
   "source": [
    "from sklearn.naive_bayes import BernoulliNB\n",
    "from sklearn.metrics import confusion_matrix"
   ]
  },
  {
   "cell_type": "markdown",
   "metadata": {},
   "source": [
    "# Utilities"
   ]
  },
  {
   "cell_type": "code",
   "execution_count": 3,
   "metadata": {
    "collapsed": true
   },
   "outputs": [],
   "source": [
    "def prepData(locStr):\n",
    "    data = pd.read_table(locStr, header=None)\n",
    "    data.columns = ['Sentence','Sentiment']\n",
    "    data['Sentiment'] = (data['Sentiment'] == 1)\n",
    "    \n",
    "    return data"
   ]
  },
  {
   "cell_type": "code",
   "execution_count": 4,
   "metadata": {
    "collapsed": true
   },
   "outputs": [],
   "source": [
    "def addFeatures(data, keywords):\n",
    "    data2 = data.copy()\n",
    "    for key in keywords:\n",
    "        data2[str(key)] = data2.Sentence.str.contains(str(key), case=False)\n",
    "    \n",
    "    return data2"
   ]
  },
  {
   "cell_type": "code",
   "execution_count": 5,
   "metadata": {
    "collapsed": true
   },
   "outputs": [],
   "source": [
    "def trainNB(trainData, targetData):\n",
    "    bnb = BernoulliNB()\n",
    "    # Fit our model to the data.\n",
    "    bnb.fit(trainData, targetData)\n",
    "    \n",
    "    return bnb"
   ]
  },
  {
   "cell_type": "code",
   "execution_count": 6,
   "metadata": {},
   "outputs": [],
   "source": [
    "def evaluateFit(bnb, testData, targetData, name):\n",
    "    y_pred = bnb.predict(testData)\n",
    "    accuracy = 1/targetData.shape[0] * (targetData == y_pred).sum()\n",
    "    confMatrix = 1/targetData.shape[0]*confusion_matrix(targetData, y_pred)\n",
    "    stats ={'name': name, 'acc': accuracy, 'cm': confMatrix}\n",
    "    \n",
    "    return stats"
   ]
  },
  {
   "cell_type": "code",
   "execution_count": 7,
   "metadata": {},
   "outputs": [],
   "source": [
    "def uncondFit(data, name):\n",
    "    accuracy = (data['Sentiment']==True).sum()/data.shape[0]\n",
    "    return {'name':name, 'acc': accuracy, 'cm':None}"
   ]
  },
  {
   "cell_type": "code",
   "execution_count": 8,
   "metadata": {
    "collapsed": true
   },
   "outputs": [],
   "source": [
    "def compareStats(allStats):\n",
    "    for st in allStats:\n",
    "        print('Name: {}'.format(st['name']))\n",
    "        print('Accuracy: {}'.format(st['acc']))\n",
    "        print(st['cm'])\n",
    "        print('-------------')"
   ]
  },
  {
   "cell_type": "markdown",
   "metadata": {},
   "source": [
    "# Get the data"
   ]
  },
  {
   "cell_type": "code",
   "execution_count": 9,
   "metadata": {},
   "outputs": [],
   "source": [
    "amazon = prepData('amazon_cells_labelled.txt')"
   ]
  },
  {
   "cell_type": "code",
   "execution_count": 10,
   "metadata": {
    "collapsed": true
   },
   "outputs": [],
   "source": [
    "imdb = prepData('imdb_labelled.txt')"
   ]
  },
  {
   "cell_type": "code",
   "execution_count": 11,
   "metadata": {
    "collapsed": true
   },
   "outputs": [],
   "source": [
    "yelp = prepData('yelp_labelled.txt')"
   ]
  },
  {
   "cell_type": "markdown",
   "metadata": {},
   "source": [
    "# Naive Bayes - U2_L2_P7"
   ]
  },
  {
   "cell_type": "code",
   "execution_count": 12,
   "metadata": {
    "collapsed": true
   },
   "outputs": [],
   "source": [
    "positiveKeywords = ['good', 'great','excellent', 'big','large', 'positive']\n",
    "negativeKeywords = ['waste', 'unsatisfactory', 'disappoint','hype','junk','bad','poor']"
   ]
  },
  {
   "cell_type": "code",
   "execution_count": 13,
   "metadata": {},
   "outputs": [],
   "source": [
    "allKeywords = positiveKeywords + negativeKeywords"
   ]
  },
  {
   "cell_type": "code",
   "execution_count": 14,
   "metadata": {
    "collapsed": true
   },
   "outputs": [],
   "source": [
    "amazon2 = addFeatures(amazon, allKeywords)"
   ]
  },
  {
   "cell_type": "code",
   "execution_count": 15,
   "metadata": {},
   "outputs": [],
   "source": [
    "# identify train and target\n",
    "amazonTrain = amazon2[allKeywords].copy()\n",
    "amazonTarget = amazon2['Sentiment'].copy()"
   ]
  },
  {
   "cell_type": "code",
   "execution_count": 16,
   "metadata": {
    "collapsed": true
   },
   "outputs": [],
   "source": [
    "# fit model\n",
    "amazonNB = trainNB(amazonTrain, amazonTarget)"
   ]
  },
  {
   "cell_type": "code",
   "execution_count": 17,
   "metadata": {
    "collapsed": true
   },
   "outputs": [],
   "source": [
    "# evaluate fit\n",
    "amazonStats = evaluateFit(amazonNB, amazonTrain, amazonTarget, 'amazon_NB_Full')\n",
    "amazonUncond = uncondFit(amazon2, 'amazonUncond')"
   ]
  },
  {
   "cell_type": "code",
   "execution_count": null,
   "metadata": {},
   "outputs": [],
   "source": [
    "# test on imdb and yelp"
   ]
  },
  {
   "cell_type": "code",
   "execution_count": 18,
   "metadata": {
    "collapsed": true
   },
   "outputs": [],
   "source": [
    "# imdb\n",
    "imdb2 = addFeatures(imdb, allKeywords)\n",
    "imdbTest = imdb2[allKeywords].copy()\n",
    "imdbTarget = imdb2['Sentiment'].copy()\n",
    "imdbStats = evaluateFit(amazonNB, imdbTest, imdbTarget,'amazon_NB_imdb')\n",
    "imdbUncond = uncondFit(imdb2, 'imdbUncond')"
   ]
  },
  {
   "cell_type": "code",
   "execution_count": 19,
   "metadata": {
    "collapsed": true
   },
   "outputs": [],
   "source": [
    "# imdb\n",
    "yelp2 = addFeatures(yelp, allKeywords)\n",
    "yelpTest = yelp2[allKeywords].copy()\n",
    "yelpTarget = yelp2['Sentiment'].copy()\n",
    "yelpStats = evaluateFit(amazonNB, yelpTest, yelpTarget,'amazon_NB_yelp')\n",
    "yelpUncond = uncondFit(yelp2, 'yelpUncond')"
   ]
  },
  {
   "cell_type": "code",
   "execution_count": 20,
   "metadata": {
    "collapsed": true
   },
   "outputs": [],
   "source": [
    "allStats = [amazonStats, amazonUncond, imdbStats, imdbUncond, yelpStats, yelpUncond]"
   ]
  },
  {
   "cell_type": "code",
   "execution_count": 21,
   "metadata": {},
   "outputs": [
    {
     "name": "stdout",
     "output_type": "stream",
     "text": [
      "Name: amazon_NB_Full\n",
      "Accuracy: 0.656\n",
      "[[ 0.482  0.018]\n",
      " [ 0.326  0.174]]\n",
      "-------------\n",
      "Name: amazonUncond\n",
      "Accuracy: 0.5\n",
      "None\n",
      "-------------\n",
      "Name: amazon_NB_imdb\n",
      "Accuracy: 0.553475935828877\n",
      "[[ 0.46791444  0.01604278]\n",
      " [ 0.43048128  0.0855615 ]]\n",
      "-------------\n",
      "Name: imdbUncond\n",
      "Accuracy: 0.516042780748663\n",
      "None\n",
      "-------------\n",
      "Name: amazon_NB_yelp\n",
      "Accuracy: 0.616\n",
      "[[ 0.478  0.022]\n",
      " [ 0.362  0.138]]\n",
      "-------------\n",
      "Name: yelpUncond\n",
      "Accuracy: 0.5\n",
      "None\n",
      "-------------\n"
     ]
    }
   ],
   "source": [
    "compareStats(allStats)"
   ]
  },
  {
   "cell_type": "markdown",
   "metadata": {},
   "source": [
    "# Observations\n",
    "\n",
    "1. In general, the amazonNB works better on yelp than on imdb\n",
    "2. positiveKeywords seem to be more important than negativeKeywords\n",
    "3. classifier seems to give non-trivial results for amazon and yelp, but rather trivial results for imdb (classifier accuracy close to unconditional accuracy)\n",
    "4. classifier seems to have trouble classifying negative sentiment comments (maybe because negative requires 'no' + something?)\n",
    "\n",
    "Questions:\n",
    "1. how often are the features in practice something more sophisticated than keywords alone (say a fancy combination of keywords/regular expressions, or an ordered set of words?)\n",
    "2. how many features are appropriate? Rule of thumb?"
   ]
  },
  {
   "cell_type": "markdown",
   "metadata": {},
   "source": [
    "# Iterate and evaluate - U2_L3_C4"
   ]
  },
  {
   "cell_type": "markdown",
   "metadata": {},
   "source": [
    "There are a few dimensions:\n",
    "1. training set (e.g. full amazon set, part of it, or k-fold)\n",
    "2. combinations of keywords (positive, negative, positive+negative, fancy combinations?)"
   ]
  },
  {
   "cell_type": "code",
   "execution_count": 22,
   "metadata": {},
   "outputs": [],
   "source": [
    "propVec = [0.5, 0.75, 0.85, 1]\n",
    "combKeywords = {'pos':positiveKeywords, 'neg':negativeKeywords, 'pos_neg': positiveKeywords+negativeKeywords}"
   ]
  },
  {
   "cell_type": "code",
   "execution_count": 23,
   "metadata": {
    "collapsed": true
   },
   "outputs": [],
   "source": [
    "allData = amazon.copy()\n",
    "dataset = 'amazon'"
   ]
  },
  {
   "cell_type": "code",
   "execution_count": 24,
   "metadata": {},
   "outputs": [],
   "source": [
    "ensambleStats = []\n",
    "for prop in propVec:\n",
    "    for comb in combKeywords.keys():\n",
    "        n = int(np.floor(prop*allData.shape[0]))\n",
    "        keywords = combKeywords[comb]\n",
    "        \n",
    "        allData2 = addFeatures(allData, keywords)\n",
    "        \n",
    "        train = allData2[keywords].iloc[:n,:].copy()\n",
    "        target = allData2['Sentiment'].iloc[:n].copy()\n",
    "        \n",
    "        dataNB = trainNB(train, target)\n",
    "        \n",
    "        if n==allData.shape[0]:\n",
    "            test = train.copy()\n",
    "            testTarget = target.copy()\n",
    "        else:\n",
    "            test = allData2[keywords].iloc[n:,:].copy()\n",
    "            testTarget = allData2['Sentiment'].iloc[n:].copy()\n",
    "            \n",
    "        stats = evaluateFit(dataNB, test, testTarget, str(prop)+'_'+comb)\n",
    "        ensambleStats.append(stats)"
   ]
  },
  {
   "cell_type": "code",
   "execution_count": 25,
   "metadata": {},
   "outputs": [],
   "source": [
    "ensambleStats.append(uncondFit(allData, 'uncond'))"
   ]
  },
  {
   "cell_type": "code",
   "execution_count": 26,
   "metadata": {},
   "outputs": [],
   "source": [
    "accuracy = [ensambleStats[ii]['acc'] for ii in range(0,len(ensambleStats)) ]"
   ]
  },
  {
   "cell_type": "code",
   "execution_count": 27,
   "metadata": {},
   "outputs": [],
   "source": [
    "falsePositives = [ensambleStats[ii]['cm'][1,0]   for ii in range(0,len(ensambleStats)-1) ]"
   ]
  },
  {
   "cell_type": "code",
   "execution_count": 28,
   "metadata": {
    "collapsed": true
   },
   "outputs": [],
   "source": [
    "falseNegatives = [ensambleStats[ii]['cm'][0,1]   for ii in range(0,len(ensambleStats)-1) ]"
   ]
  },
  {
   "cell_type": "code",
   "execution_count": 29,
   "metadata": {},
   "outputs": [],
   "source": [
    "labels = [ensambleStats[ii]['name'] for ii in range(0,len(ensambleStats)) ]"
   ]
  },
  {
   "cell_type": "code",
   "execution_count": 30,
   "metadata": {},
   "outputs": [
    {
     "data": {
      "image/png": "[encoded data removed]",
      "text/plain": [
       "<matplotlib.figure.Figure at 0x11a509940>"
      ]
     },
     "metadata": {},
     "output_type": "display_data"
    }
   ],
   "source": [
    "plt.figure(figsize=(5,4))\n",
    "\n",
    "inds = np.arange(len(accuracy))\n",
    "width = 0.35\n",
    "plt.bar(inds, accuracy, width,color='b',label='variations')\n",
    "plt.bar(inds[-1], accuracy[-1],width, color='r',label='unconditional')\n",
    "plt.ylim([0,1])\n",
    "plt.title(dataset + ': positive sentiment acurrately flagged')\n",
    "plt.xlabel('Version')\n",
    "plt.ylabel('Accuracy')\n",
    "plt.xticks(inds,labels, rotation = 90)\n",
    "plt.legend(loc='best')\n",
    "plt.grid(b=True)\n",
    "plt.show()"
   ]
  },
  {
   "cell_type": "code",
   "execution_count": 32,
   "metadata": {},
   "outputs": [
    {
     "data": {
      "image/png": "[encoded data removed]",
      "text/plain": [
       "<matplotlib.figure.Figure at 0x11a4033c8>"
      ]
     },
     "metadata": {},
     "output_type": "display_data"
    }
   ],
   "source": [
    "plt.figure(figsize=(5,4))\n",
    "inds = np.arange(len(falsePositives))\n",
    "width = 0.35\n",
    "plt.bar(inds, falsePositives, width,color='b',label='variations')\n",
    "plt.ylim([0,1])\n",
    "plt.title(dataset + ': negative sentiment flagged as positive')\n",
    "plt.xlabel('Version')\n",
    "plt.ylabel('False Positives')\n",
    "plt.xticks(inds,labels[:-1], rotation = 90)\n",
    "plt.grid(b=True)\n",
    "plt.show()"
   ]
  },
  {
   "cell_type": "code",
   "execution_count": 33,
   "metadata": {},
   "outputs": [
    {
     "data": {
      "image/png": "[encoded data removed]",
      "text/plain": [
       "<matplotlib.figure.Figure at 0x11cef1b70>"
      ]
     },
     "metadata": {},
     "output_type": "display_data"
    }
   ],
   "source": [
    "plt.figure(figsize=(5,4))\n",
    "inds = np.arange(len(falseNegatives))\n",
    "width = 0.35\n",
    "plt.bar(inds, falseNegatives, width,color='b',label='variations')\n",
    "plt.ylim([0,1])\n",
    "plt.title(dataset + ': positive sentiment flagged as negative')\n",
    "plt.xlabel('Version')\n",
    "plt.ylabel('False Negatives')\n",
    "plt.xticks(inds,labels, rotation = 90)\n",
    "plt.grid(b=True)\n",
    "plt.show()"
   ]
  }
 ],
 "metadata": {
  "kernelspec": {
   "display_name": "Python 3",
   "language": "python",
   "name": "python3"
  },
  "language_info": {
   "codemirror_mode": {
    "name": "ipython",
    "version": 3
   },
   "file_extension": ".py",
   "mimetype": "text/x-python",
   "name": "python",
   "nbconvert_exporter": "python",
   "pygments_lexer": "ipython3",
   "version": "3.6.2"
  }
 },
 "nbformat": 4,
 "nbformat_minor": 2
}
