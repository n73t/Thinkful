{
 "cells": [
  {
   "cell_type": "code",
   "execution_count": 126,
   "metadata": {
    "collapsed": true
   },
   "outputs": [],
   "source": [
    "import pandas as pd\n",
    "import numpy as np\n",
    "\n",
    "import matplotlib.pyplot as plt\n",
    "import seaborn as sns\n",
    "\n",
    "from sklearn import preprocessing\n",
    "from sklearn.model_selection import cross_val_score\n",
    "\n",
    "from sklearn.linear_model import LogisticRegression\n",
    "\n",
    "from sklearn.tree import DecisionTreeClassifier\n",
    "from sklearn import tree\n",
    "import graphviz \n",
    "\n",
    "from sklearn.svm import SVC\n",
    "from sklearn.ensemble import RandomForestClassifier"
   ]
  },
  {
   "cell_type": "code",
   "execution_count": 127,
   "metadata": {
    "collapsed": true
   },
   "outputs": [],
   "source": [
    "sns.set_style(\"whitegrid\")"
   ]
  },
  {
   "cell_type": "markdown",
   "metadata": {},
   "source": [
    "# Objective\n",
    "\n",
    "Model the loan grade assignment for Lending Club loan data from 2007-2011 (https://www.lendingclub.com/info/download-data.action).\n",
    "\n",
    "This is useful because the grade is an important part of how the interest rates are assigned for loans. "
   ]
  },
  {
   "cell_type": "markdown",
   "metadata": {},
   "source": [
    "# Load data"
   ]
  },
  {
   "cell_type": "code",
   "execution_count": 128,
   "metadata": {
    "collapsed": true
   },
   "outputs": [],
   "source": [
    "loanData = pd.read_csv('LoanStats3aC.csv',dtype=str, encoding = \"ISO-8859-1\")"
   ]
  },
  {
   "cell_type": "code",
   "execution_count": 129,
   "metadata": {},
   "outputs": [
    {
     "data": {
      "text/html": [
       "<div>\n",
       "<style>\n",
       "    .dataframe thead tr:only-child th {\n",
       "        text-align: right;\n",
       "    }\n",
       "\n",
       "    .dataframe thead th {\n",
       "        text-align: left;\n",
       "    }\n",
       "\n",
       "    .dataframe tbody tr th {\n",
       "        vertical-align: top;\n",
       "    }\n",
       "</style>\n",
       "<table border=\"1\" class=\"dataframe\">\n",
       "  <thead>\n",
       "    <tr style=\"text-align: right;\">\n",
       "      <th></th>\n",
       "      <th>loan_amnt</th>\n",
       "      <th>funded_amnt</th>\n",
       "      <th>funded_amnt_inv</th>\n",
       "      <th>term</th>\n",
       "      <th>int_rate</th>\n",
       "      <th>installment</th>\n",
       "      <th>grade</th>\n",
       "      <th>sub_grade</th>\n",
       "      <th>emp_title</th>\n",
       "      <th>emp_length</th>\n",
       "      <th>...</th>\n",
       "      <th>hardship_payoff_balance_amount</th>\n",
       "      <th>hardship_last_payment_amount</th>\n",
       "      <th>disbursement_method</th>\n",
       "      <th>debt_settlement_flag</th>\n",
       "      <th>debt_settlement_flag_date</th>\n",
       "      <th>settlement_status</th>\n",
       "      <th>settlement_date</th>\n",
       "      <th>settlement_amount</th>\n",
       "      <th>settlement_percentage</th>\n",
       "      <th>settlement_term</th>\n",
       "    </tr>\n",
       "  </thead>\n",
       "  <tbody>\n",
       "    <tr>\n",
       "      <th>0</th>\n",
       "      <td>5000</td>\n",
       "      <td>5000</td>\n",
       "      <td>4975</td>\n",
       "      <td>36 months</td>\n",
       "      <td>10.65%</td>\n",
       "      <td>162.87</td>\n",
       "      <td>B</td>\n",
       "      <td>B2</td>\n",
       "      <td>NaN</td>\n",
       "      <td>10+ years</td>\n",
       "      <td>...</td>\n",
       "      <td>NaN</td>\n",
       "      <td>NaN</td>\n",
       "      <td>Cash</td>\n",
       "      <td>N</td>\n",
       "      <td>NaN</td>\n",
       "      <td>NaN</td>\n",
       "      <td>NaN</td>\n",
       "      <td>NaN</td>\n",
       "      <td>NaN</td>\n",
       "      <td>NaN</td>\n",
       "    </tr>\n",
       "    <tr>\n",
       "      <th>1</th>\n",
       "      <td>2500</td>\n",
       "      <td>2500</td>\n",
       "      <td>2500</td>\n",
       "      <td>60 months</td>\n",
       "      <td>15.27%</td>\n",
       "      <td>59.83</td>\n",
       "      <td>C</td>\n",
       "      <td>C4</td>\n",
       "      <td>Ryder</td>\n",
       "      <td>&lt; 1 year</td>\n",
       "      <td>...</td>\n",
       "      <td>NaN</td>\n",
       "      <td>NaN</td>\n",
       "      <td>Cash</td>\n",
       "      <td>N</td>\n",
       "      <td>NaN</td>\n",
       "      <td>NaN</td>\n",
       "      <td>NaN</td>\n",
       "      <td>NaN</td>\n",
       "      <td>NaN</td>\n",
       "      <td>NaN</td>\n",
       "    </tr>\n",
       "    <tr>\n",
       "      <th>2</th>\n",
       "      <td>2400</td>\n",
       "      <td>2400</td>\n",
       "      <td>2400</td>\n",
       "      <td>36 months</td>\n",
       "      <td>15.96%</td>\n",
       "      <td>84.33</td>\n",
       "      <td>C</td>\n",
       "      <td>C5</td>\n",
       "      <td>NaN</td>\n",
       "      <td>10+ years</td>\n",
       "      <td>...</td>\n",
       "      <td>NaN</td>\n",
       "      <td>NaN</td>\n",
       "      <td>Cash</td>\n",
       "      <td>N</td>\n",
       "      <td>NaN</td>\n",
       "      <td>NaN</td>\n",
       "      <td>NaN</td>\n",
       "      <td>NaN</td>\n",
       "      <td>NaN</td>\n",
       "      <td>NaN</td>\n",
       "    </tr>\n",
       "    <tr>\n",
       "      <th>3</th>\n",
       "      <td>10000</td>\n",
       "      <td>10000</td>\n",
       "      <td>10000</td>\n",
       "      <td>36 months</td>\n",
       "      <td>13.49%</td>\n",
       "      <td>339.31</td>\n",
       "      <td>C</td>\n",
       "      <td>C1</td>\n",
       "      <td>AIR RESOURCES BOARD</td>\n",
       "      <td>10+ years</td>\n",
       "      <td>...</td>\n",
       "      <td>NaN</td>\n",
       "      <td>NaN</td>\n",
       "      <td>Cash</td>\n",
       "      <td>N</td>\n",
       "      <td>NaN</td>\n",
       "      <td>NaN</td>\n",
       "      <td>NaN</td>\n",
       "      <td>NaN</td>\n",
       "      <td>NaN</td>\n",
       "      <td>NaN</td>\n",
       "    </tr>\n",
       "    <tr>\n",
       "      <th>4</th>\n",
       "      <td>3000</td>\n",
       "      <td>3000</td>\n",
       "      <td>3000</td>\n",
       "      <td>60 months</td>\n",
       "      <td>12.69%</td>\n",
       "      <td>67.79</td>\n",
       "      <td>B</td>\n",
       "      <td>B5</td>\n",
       "      <td>University Medical Group</td>\n",
       "      <td>1 year</td>\n",
       "      <td>...</td>\n",
       "      <td>NaN</td>\n",
       "      <td>NaN</td>\n",
       "      <td>Cash</td>\n",
       "      <td>N</td>\n",
       "      <td>NaN</td>\n",
       "      <td>NaN</td>\n",
       "      <td>NaN</td>\n",
       "      <td>NaN</td>\n",
       "      <td>NaN</td>\n",
       "      <td>NaN</td>\n",
       "    </tr>\n",
       "  </tbody>\n",
       "</table>\n",
       "<p>5 rows × 143 columns</p>\n",
       "</div>"
      ],
      "text/plain": [
       "  loan_amnt funded_amnt funded_amnt_inv        term int_rate installment  \\\n",
       "0      5000        5000            4975   36 months   10.65%      162.87   \n",
       "1      2500        2500            2500   60 months   15.27%       59.83   \n",
       "2      2400        2400            2400   36 months   15.96%       84.33   \n",
       "3     10000       10000           10000   36 months   13.49%      339.31   \n",
       "4      3000        3000            3000   60 months   12.69%       67.79   \n",
       "\n",
       "  grade sub_grade                 emp_title emp_length       ...        \\\n",
       "0     B        B2                       NaN  10+ years       ...         \n",
       "1     C        C4                     Ryder   < 1 year       ...         \n",
       "2     C        C5                       NaN  10+ years       ...         \n",
       "3     C        C1       AIR RESOURCES BOARD  10+ years       ...         \n",
       "4     B        B5  University Medical Group     1 year       ...         \n",
       "\n",
       "  hardship_payoff_balance_amount hardship_last_payment_amount  \\\n",
       "0                            NaN                          NaN   \n",
       "1                            NaN                          NaN   \n",
       "2                            NaN                          NaN   \n",
       "3                            NaN                          NaN   \n",
       "4                            NaN                          NaN   \n",
       "\n",
       "  disbursement_method debt_settlement_flag debt_settlement_flag_date  \\\n",
       "0                Cash                    N                       NaN   \n",
       "1                Cash                    N                       NaN   \n",
       "2                Cash                    N                       NaN   \n",
       "3                Cash                    N                       NaN   \n",
       "4                Cash                    N                       NaN   \n",
       "\n",
       "  settlement_status settlement_date settlement_amount settlement_percentage  \\\n",
       "0               NaN             NaN               NaN                   NaN   \n",
       "1               NaN             NaN               NaN                   NaN   \n",
       "2               NaN             NaN               NaN                   NaN   \n",
       "3               NaN             NaN               NaN                   NaN   \n",
       "4               NaN             NaN               NaN                   NaN   \n",
       "\n",
       "  settlement_term  \n",
       "0             NaN  \n",
       "1             NaN  \n",
       "2             NaN  \n",
       "3             NaN  \n",
       "4             NaN  \n",
       "\n",
       "[5 rows x 143 columns]"
      ]
     },
     "execution_count": 129,
     "metadata": {},
     "output_type": "execute_result"
    }
   ],
   "source": [
    "loanData.head()"
   ]
  },
  {
   "cell_type": "markdown",
   "metadata": {},
   "source": [
    "# Clean Data - Part A"
   ]
  },
  {
   "cell_type": "markdown",
   "metadata": {},
   "source": [
    "Principles and objectives in cleaning data:\n",
    "1. remove useless, inappropriate features or bad data\n",
    "\n",
    "Loan grades are assigned before the loan is issued and that means only information known at the time of the loan issuance needs to be consired. We consider as 'inappropriate' features that would not have been known at the date of issuance.\n",
    "\n",
    "\"Useless\" features are features that have no quantitative quality or have too many values to be useful in a classification problem. \"Useless\" also includes interesting features like interest rate, but which are not useful for the purposes of the classification problem. \n",
    "\n",
    "\"Bad\" data revers to features for which the data doesn't make sense (e.g. nan)\n",
    "\n",
    "2. Turn numeric variables to numbers (e.g quantiles) and categorical variables to labels\n",
    "\n",
    "3. Create new features (e.g. loan amount to annual income)\n",
    "\n",
    "4. Structure the data so as to reduce the scope of the problem (by reducing the number of classes of grades) and reduce possible sampling bias (we want a balanced set of values, rather than a data set dominated by one outcome) "
   ]
  },
  {
   "cell_type": "code",
   "execution_count": null,
   "metadata": {
    "collapsed": true
   },
   "outputs": [],
   "source": [
    "# remove columns which contain irrelevant data, data which is not reliable and \n",
    "# data that is known after the time the loan has been paid off or defaulted on\n",
    "dropCols = ['pymnt_plan', 'url','desc','title','zip_code', 'delinq_2yrs',\n",
    "            'inq_last_6mths', 'mths_since_last_delinq', 'mths_since_last_record',\n",
    "            'out_prncp_inv', 'out_prncp', 'total_pymnt', 'total_pymnt_inv','total_rec_prncp','total_rec_int',\n",
    "            'total_rec_late_fee',\n",
    "            'recoveries', 'collection_recovery_fee','last_pymnt_d', 'last_pymnt_amnt',\n",
    "            'next_pymnt_d' ,'last_credit_pull_d','collections_12_mths_ex_med', 'mths_since_last_major_derog','policy_code',\n",
    "            'acc_now_delinq','tot_coll_amt','tot_cur_bal','open_acc_6m','open_act_il','open_il_12m','open_il_24m',\n",
    "            'mths_since_rcnt_il','total_bal_il','il_util','open_rv_12m', 'open_rv_24m', 'max_bal_bc','all_util','total_rev_hi_lim','inq_fi','total_cu_tl',\n",
    "            'inq_last_12m', 'acc_open_past_24mths','avg_cur_bal','bc_open_to_buy','bc_util','chargeoff_within_12_mths', 'delinq_amnt', 'mo_sin_old_il_acct', \n",
    "            'mo_sin_old_rev_tl_op','mo_sin_rcnt_rev_tl_op', \n",
    "            'mo_sin_rcnt_tl','mort_acc','mths_since_recent_bc','mths_since_recent_bc_dlq','mths_since_recent_inq','mths_since_recent_revol_delinq',\n",
    "            'num_accts_ever_120_pd','num_actv_bc_tl','num_actv_rev_tl','num_bc_sats',\n",
    "            'num_bc_tl','num_il_tl','num_op_rev_tl', 'num_rev_accts',\n",
    "            'num_rev_tl_bal_gt_0', 'num_sats', 'num_tl_120dpd_2m', 'num_tl_30dpd',\n",
    "            'num_tl_90g_dpd_24m', 'num_tl_op_past_12m'\n",
    "            ]"
   ]
  },
  {
   "cell_type": "code",
   "execution_count": 130,
   "metadata": {
    "collapsed": true
   },
   "outputs": [],
   "source": [
    "# the columns beyond 101 are NAN (a couple are not, but they are not relevant or timely: 'disbursement_method' and 'debt_settlement_flag')\n",
    "loanData1 = loanData.iloc[:,1:101]\n",
    "loanData2 = loanData1.drop(dropCols, axis=1)"
   ]
  },
  {
   "cell_type": "code",
   "execution_count": 131,
   "metadata": {
    "collapsed": true
   },
   "outputs": [],
   "source": [
    "# number of employment titles too large to be meaningful as a categorical variable\n",
    "# this variable is not useful either because the 2 categories are not complementary and the meaning of nan is not clear\n",
    "# the values should be 'individual' or 'joint', but 'joint' doesn't appear. 'joint' variables like 'dti_joint' are nan.\n",
    "# initial_list_status has w and f as possible values but only f appears.\n",
    "dropCols2 = ['sub_grade','emp_title','application_type','initial_list_status','annual_inc_joint','dti_joint', 'verification_status_joint']\n",
    "loanData3 = loanData2.drop(dropCols2, axis=1)"
   ]
  },
  {
   "cell_type": "markdown",
   "metadata": {},
   "source": [
    "# Get to know the data"
   ]
  },
  {
   "cell_type": "code",
   "execution_count": 132,
   "metadata": {},
   "outputs": [
    {
     "name": "stdout",
     "output_type": "stream",
     "text": [
      "['B' 'C' 'A' 'E' 'F' 'D' 'G' nan]\n",
      "B    12389\n",
      "A    10183\n",
      "C     8740\n",
      "D     6016\n",
      "E     3394\n",
      "F     1301\n",
      "G      512\n",
      "Name: grade, dtype: int64\n"
     ]
    }
   ],
   "source": [
    "print(loanData3['grade'].unique())\n",
    "print(loanData3['grade'].value_counts())"
   ]
  },
  {
   "cell_type": "code",
   "execution_count": 133,
   "metadata": {},
   "outputs": [
    {
     "data": {
      "image/png": "[encoded data removed]",
      "text/plain": [
       "<matplotlib.figure.Figure at 0x11e6126d8>"
      ]
     },
     "metadata": {},
     "output_type": "display_data"
    }
   ],
   "source": [
    "# plot pie chart for grade\n",
    "gdata = loanData3['grade'].value_counts().sort_index()\n",
    "fig = plt.figure()\n",
    "plt.title('Loan grades')\n",
    "sizes = gdata.values\n",
    "labels = gdata.index.values\n",
    "plt.pie(sizes, labels=labels, autopct='%1.1f%%', shadow=False, startangle=0)\n",
    "plt.axis('equal')\n",
    "fig.savefig('grade_pie2.png', bbox_inches='tight')\n",
    "plt.show()"
   ]
  },
  {
   "cell_type": "code",
   "execution_count": 134,
   "metadata": {
    "collapsed": true
   },
   "outputs": [],
   "source": [
    "auxLoanData = loanData3[['grade','int_rate']].copy()\n",
    "auxLoanData.dropna(axis=0, how='any')\n",
    "auxLoanData.replace(to_replace={'grade':{'A':1, 'B':2, 'C':3, 'D':4, 'E':5, 'F':6, 'G':7}}, inplace=True)\n",
    "auxLoanData['int_rate'] = pd.to_numeric(auxLoanData['int_rate'].str.strip('%'), errors='coerce')"
   ]
  },
  {
   "cell_type": "code",
   "execution_count": 135,
   "metadata": {},
   "outputs": [
    {
     "data": {
      "image/png": "[encoded data removed]",
      "text/plain": [
       "<matplotlib.figure.Figure at 0x11e6122b0>"
      ]
     },
     "metadata": {},
     "output_type": "display_data"
    }
   ],
   "source": [
    "fig = plt.figure()\n",
    "g = sns.regplot(x=\"grade\", y=\"int_rate\",data=auxLoanData)\n",
    "plt.title('Grade versus interst rate')\n",
    "plt.xticks(range(1,8),['A', 'B', 'C', 'D', 'E', 'F', 'G'])\n",
    "plt.show()\n",
    "fig.savefig('grade_int_rate', bbox_inches='tight')"
   ]
  },
  {
   "cell_type": "code",
   "execution_count": 136,
   "metadata": {},
   "outputs": [
    {
     "name": "stdout",
     "output_type": "stream",
     "text": [
      "['10+ years' '< 1 year' '1 year' '3 years' '8 years' '9 years' '4 years'\n",
      " '5 years' '6 years' '2 years' '7 years' 'n/a' nan]\n",
      "10+ years    9369\n",
      "< 1 year     5062\n",
      "2 years      4743\n",
      "3 years      4364\n",
      "4 years      3649\n",
      "1 year       3595\n",
      "5 years      3458\n",
      "6 years      2375\n",
      "7 years      1875\n",
      "8 years      1592\n",
      "9 years      1341\n",
      "n/a          1112\n",
      "Name: emp_length, dtype: int64\n"
     ]
    }
   ],
   "source": [
    "print(loanData3['emp_length'].unique())\n",
    "print(loanData3['emp_length'].value_counts())"
   ]
  },
  {
   "cell_type": "code",
   "execution_count": 137,
   "metadata": {},
   "outputs": [
    {
     "name": "stdout",
     "output_type": "stream",
     "text": [
      "['RENT' 'OWN' 'MORTGAGE' 'OTHER' 'NONE' nan]\n",
      "RENT        20181\n",
      "MORTGAGE    18959\n",
      "OWN          3251\n",
      "OTHER         136\n",
      "NONE            8\n",
      "Name: home_ownership, dtype: int64\n"
     ]
    }
   ],
   "source": [
    "print(loanData3['home_ownership'].unique()) # .describe()\n",
    "print(loanData3['home_ownership'].value_counts())"
   ]
  },
  {
   "cell_type": "code",
   "execution_count": 138,
   "metadata": {
    "collapsed": true
   },
   "outputs": [],
   "source": [
    "auxLoanData = loanData3[['grade','home_ownership']].copy()\n",
    "auxLoanData.dropna(axis=0, how='any', inplace=True)\n",
    "hown = auxLoanData.groupby(loanData3['home_ownership']).count()"
   ]
  },
  {
   "cell_type": "code",
   "execution_count": 139,
   "metadata": {},
   "outputs": [
    {
     "data": {
      "image/png": "[encoded data removed]",
      "text/plain": [
       "<matplotlib.figure.Figure at 0x11f1ddb38>"
      ]
     },
     "metadata": {},
     "output_type": "display_data"
    }
   ],
   "source": [
    "fig = plt.figure()\n",
    "\n",
    "y_pos = np.arange(hown.shape[0])\n",
    "auxData = hown['grade'].values\n",
    " \n",
    "plt.bar(y_pos, auxData, align='center', alpha=1)\n",
    "plt.xticks(y_pos, hown.index)\n",
    "plt.ylabel('Count')\n",
    "plt.title('Homeownership type')\n",
    "fig.savefig('homeownership.png',bbox_inches='tight')\n",
    "plt.show()\n"
   ]
  },
  {
   "cell_type": "code",
   "execution_count": 140,
   "metadata": {},
   "outputs": [
    {
     "name": "stdout",
     "output_type": "stream",
     "text": [
      "['Verified' 'Source Verified' 'Not Verified' nan]\n",
      "Not Verified       18758\n",
      "Verified           13471\n",
      "Source Verified    10306\n",
      "Name: verification_status, dtype: int64\n"
     ]
    }
   ],
   "source": [
    "print(loanData3['verification_status'].unique())\n",
    "print(loanData3['verification_status'].value_counts())"
   ]
  },
  {
   "cell_type": "code",
   "execution_count": 141,
   "metadata": {},
   "outputs": [
    {
     "name": "stdout",
     "output_type": "stream",
     "text": [
      "['Fully Paid' 'Charged Off' nan\n",
      " 'Does not meet the credit policy. Status:Fully Paid'\n",
      " 'Does not meet the credit policy. Status:Charged Off']\n",
      "Fully Paid                                             34116\n",
      "Charged Off                                             5670\n",
      "Does not meet the credit policy. Status:Fully Paid      1988\n",
      "Does not meet the credit policy. Status:Charged Off      761\n",
      "Name: loan_status, dtype: int64\n"
     ]
    }
   ],
   "source": [
    "print(loanData3['loan_status'].unique())\n",
    "print(loanData3['loan_status'].value_counts())"
   ]
  },
  {
   "cell_type": "code",
   "execution_count": 142,
   "metadata": {},
   "outputs": [],
   "source": [
    "auxLoanData = loanData3[['grade','loan_status']].copy()\n",
    "auxLoanData.dropna(axis=0, how='any', inplace=True)"
   ]
  },
  {
   "cell_type": "code",
   "execution_count": 143,
   "metadata": {},
   "outputs": [],
   "source": [
    "grades = sorted(list(set(list(auxLoanData['grade'].values))))"
   ]
  },
  {
   "cell_type": "code",
   "execution_count": 144,
   "metadata": {
    "collapsed": true
   },
   "outputs": [],
   "source": [
    "replaceDict = {'Does not meet the credit policy. Status:Fully Paid':'Fully Paid',\n",
    "              'Does not meet the credit policy. Status:Charged Off':'Charged Off'}\n",
    "auxLoanData.replace(to_replace={'loan_status': replaceDict}, inplace=True)"
   ]
  },
  {
   "cell_type": "code",
   "execution_count": 145,
   "metadata": {},
   "outputs": [],
   "source": [
    "defaults = []\n",
    "for g in grades:\n",
    "    chargedOff = (auxLoanData['loan_status']=='Charged Off') & (auxLoanData['grade']==g)\n",
    "    fullyPaid = (auxLoanData['loan_status']=='Fully Paid') & (auxLoanData['grade']==g)\n",
    "    nChargedOff = auxLoanData[chargedOff].shape[0]\n",
    "    nFullyPaid = auxLoanData[fullyPaid].shape[0]\n",
    "    defaults.append(float(nChargedOff)/float(nChargedOff + nFullyPaid))"
   ]
  },
  {
   "cell_type": "code",
   "execution_count": 146,
   "metadata": {
    "collapsed": true
   },
   "outputs": [],
   "source": [
    "defData = pd.DataFrame({'grade': range(1,len(grades)+1), 'defaults':defaults})"
   ]
  },
  {
   "cell_type": "code",
   "execution_count": 147,
   "metadata": {},
   "outputs": [
    {
     "data": {
      "image/png": "[encoded data removed]",
      "text/plain": [
       "<matplotlib.figure.Figure at 0x12410deb8>"
      ]
     },
     "metadata": {},
     "output_type": "display_data"
    }
   ],
   "source": [
    "fig = plt.figure()\n",
    "g = sns.regplot(x=\"grade\", y=\"defaults\",data=defData)\n",
    "plt.title('Grade versus interst rate')\n",
    "plt.xticks(range(1,8),grades)\n",
    "plt.show()\n",
    "fig.savefig('grade_defaults', bbox_inches='tight')"
   ]
  },
  {
   "cell_type": "code",
   "execution_count": 148,
   "metadata": {},
   "outputs": [
    {
     "name": "stdout",
     "output_type": "stream",
     "text": [
      "['credit_card' 'car' 'small_business' 'other' 'wedding'\n",
      " 'debt_consolidation' 'home_improvement' 'major_purchase' 'medical'\n",
      " 'moving' 'vacation' 'house' 'renewable_energy' 'educational' nan]\n",
      "debt_consolidation    19776\n",
      "credit_card            5477\n",
      "other                  4425\n",
      "home_improvement       3199\n",
      "major_purchase         2311\n",
      "small_business         1992\n",
      "car                    1615\n",
      "wedding                1004\n",
      "medical                 753\n",
      "moving                  629\n",
      "house                   426\n",
      "educational             422\n",
      "vacation                400\n",
      "renewable_energy        106\n",
      "Name: purpose, dtype: int64\n"
     ]
    }
   ],
   "source": [
    "print(loanData3['purpose'].unique())\n",
    "print(loanData3['purpose'].value_counts())"
   ]
  },
  {
   "cell_type": "code",
   "execution_count": 149,
   "metadata": {},
   "outputs": [
    {
     "name": "stdout",
     "output_type": "stream",
     "text": [
      "['9' '4' '10' '37' '38' '12' '11' '13' '3' '23' '34' '29' '28' '42' '14'\n",
      " '22' '21' '17' '7' '31' '44' '26' '16' '6' '18' '27' '24' '25' '40' '35'\n",
      " '8' '20' '15' '19' '36' '51' '32' '30' '33' '46' '5' '61' '56' '50' '41'\n",
      " '39' '79' '62' '43' '47' '53' '45' '60' '55' '52' '58' '54' '57' '49' '63'\n",
      " '48' '59' '77' '87' '75' '72' '64' '67' '78' '76' '74' '66' '81' '90' '80'\n",
      " '71' '69' '73' '70' '68' '65' '2' nan '1']\n"
     ]
    }
   ],
   "source": [
    "#'open_acc', 'pub_rec', 'total_acc'\n",
    "print(loanData3['total_acc'].unique())\n",
    "# print(loanData3['total_acc'].value_counts())"
   ]
  },
  {
   "cell_type": "code",
   "execution_count": 150,
   "metadata": {},
   "outputs": [
    {
     "name": "stdout",
     "output_type": "stream",
     "text": [
      "[' 36 months' ' 60 months' nan]\n"
     ]
    }
   ],
   "source": [
    "print(loanData3['term'].unique())"
   ]
  },
  {
   "cell_type": "code",
   "execution_count": 151,
   "metadata": {},
   "outputs": [],
   "source": [
    "auxLoanData = loanData3[['grade','term']].copy()\n",
    "auxLoanData.dropna(axis=0, how='any', inplace=True)\n",
    "terms = auxLoanData.groupby(loanData3['term']).count()"
   ]
  },
  {
   "cell_type": "code",
   "execution_count": 152,
   "metadata": {},
   "outputs": [
    {
     "data": {
      "image/png": "[encoded data removed]",
      "text/plain": [
       "<matplotlib.figure.Figure at 0x1283eab70>"
      ]
     },
     "metadata": {},
     "output_type": "display_data"
    }
   ],
   "source": [
    "fig = plt.figure()\n",
    "\n",
    "y_pos = np.arange(terms.shape[0])\n",
    "auxData = terms['grade'].values\n",
    " \n",
    "plt.bar(y_pos, auxData, align='center', alpha=1)\n",
    "plt.xticks(y_pos, terms.index)\n",
    "plt.ylabel('Count')\n",
    "plt.title('Loan term')\n",
    " \n",
    "plt.show()\n",
    "fig.savefig('loan_term.png',bbox_inches='tight')"
   ]
  },
  {
   "cell_type": "code",
   "execution_count": 153,
   "metadata": {},
   "outputs": [
    {
     "name": "stdout",
     "output_type": "stream",
     "text": [
      "['AZ' 'GA' 'IL' 'CA' 'OR' 'NC' 'TX' 'VA' 'MO' 'CT' 'UT' 'FL' 'NY' 'PA' 'MN'\n",
      " 'NJ' 'KY' 'OH' 'SC' 'RI' 'LA' 'MA' 'WA' 'WI' 'AL' 'CO' 'KS' 'NV' 'AK' 'MD'\n",
      " 'WV' 'VT' 'MI' 'DC' 'SD' 'NH' 'AR' 'NM' 'MT' 'HI' 'WY' 'OK' 'DE' 'MS' 'TN'\n",
      " 'IA' 'NE' 'ID' 'IN' 'ME' nan]\n",
      "CA    7429\n",
      "NY    4065\n",
      "FL    3104\n",
      "TX    2915\n",
      "NJ    1988\n",
      "IL    1672\n",
      "PA    1651\n",
      "GA    1503\n",
      "VA    1487\n",
      "MA    1438\n",
      "OH    1329\n",
      "MD    1125\n",
      "AZ     933\n",
      "WA     888\n",
      "CO     857\n",
      "NC     830\n",
      "CT     816\n",
      "MI     796\n",
      "MO     765\n",
      "MN     652\n",
      "NV     527\n",
      "WI     516\n",
      "SC     489\n",
      "AL     484\n",
      "OR     468\n",
      "LA     461\n",
      "KY     359\n",
      "OK     317\n",
      "KS     298\n",
      "UT     278\n",
      "AR     261\n",
      "DC     224\n",
      "RI     208\n",
      "NM     205\n",
      "NH     188\n",
      "WV     187\n",
      "HI     181\n",
      "DE     136\n",
      "MT      96\n",
      "WY      87\n",
      "AK      86\n",
      "SD      67\n",
      "VT      57\n",
      "TN      32\n",
      "MS      26\n",
      "IN      19\n",
      "IA      12\n",
      "NE      11\n",
      "ID       9\n",
      "ME       3\n",
      "Name: addr_state, dtype: int64\n"
     ]
    }
   ],
   "source": [
    "print(loanData3['addr_state'].unique())\n",
    "print(loanData3['addr_state'].value_counts())"
   ]
  },
  {
   "cell_type": "markdown",
   "metadata": {},
   "source": [
    "# Clean data - Part B "
   ]
  },
  {
   "cell_type": "code",
   "execution_count": 154,
   "metadata": {
    "collapsed": true
   },
   "outputs": [],
   "source": [
    "loanData3.replace(to_replace='n/a',value=np.nan, inplace=True)\n",
    "loanData5 = loanData3.dropna(axis=0, how='any')"
   ]
  },
  {
   "cell_type": "code",
   "execution_count": 155,
   "metadata": {
    "collapsed": true
   },
   "outputs": [],
   "source": [
    "# add new feature - loan amount to annual income\n",
    "loanData6 = loanData5.copy()\n",
    "loanData6['amnt_pct_inc'] = loanData6['funded_amnt'].astype(float)/loanData6['annual_inc'].astype(float)"
   ]
  },
  {
   "cell_type": "code",
   "execution_count": 156,
   "metadata": {
    "collapsed": true
   },
   "outputs": [],
   "source": [
    "# We group part of the data into 2 categories of about the same size.\n",
    "loanData7 = loanData6.copy()\n",
    "loanData7.replace(to_replace='A',value='high', inplace=True)\n",
    "loanData7.replace(to_replace=['D','E','F'],value='low', inplace=True)"
   ]
  },
  {
   "cell_type": "code",
   "execution_count": 157,
   "metadata": {
    "collapsed": true
   },
   "outputs": [],
   "source": [
    "loanData8 = loanData7[(loanData7['grade']=='high') | (loanData7['grade']=='low')]"
   ]
  },
  {
   "cell_type": "code",
   "execution_count": 158,
   "metadata": {
    "collapsed": true
   },
   "outputs": [],
   "source": [
    "dropCols3 = ['funded_amnt_inv','int_rate','installment','emp_length','issue_d','loan_status','purpose','addr_state', 'earliest_cr_line']\n",
    "loanData9 = loanData8.copy()\n",
    "loanData9.drop(dropCols3, axis=1,inplace=True)"
   ]
  },
  {
   "cell_type": "code",
   "execution_count": 159,
   "metadata": {},
   "outputs": [
    {
     "name": "stdout",
     "output_type": "stream",
     "text": [
      "funded_amnt\n",
      "term\n",
      "grade\n",
      "home_ownership\n",
      "annual_inc\n",
      "verification_status\n",
      "dti\n",
      "open_acc\n",
      "pub_rec\n",
      "revol_bal\n",
      "revol_util\n",
      "total_acc\n",
      "amnt_pct_inc\n"
     ]
    }
   ],
   "source": [
    "for c in loanData9.columns:\n",
    "    print(c)"
   ]
  },
  {
   "cell_type": "code",
   "execution_count": 160,
   "metadata": {
    "collapsed": true
   },
   "outputs": [],
   "source": [
    "loanData9['revol_util'] = pd.to_numeric(loanData9['revol_util'].str.strip('%'), errors='coerce')\n",
    "numericCols = ['funded_amnt','dti','open_acc', 'pub_rec','revol_bal','total_acc','amnt_pct_inc']\n",
    "for c in numericCols:\n",
    "    loanData9[c] = pd.to_numeric(loanData9[c], errors='coerce')"
   ]
  },
  {
   "cell_type": "code",
   "execution_count": 161,
   "metadata": {
    "collapsed": true
   },
   "outputs": [],
   "source": [
    "catFeatures = ['term', 'home_ownership','verification_status']\n",
    "numFeatures = [c for c in loanData9.columns if (c not in catFeatures) & (c!='grade') ]"
   ]
  },
  {
   "cell_type": "code",
   "execution_count": 162,
   "metadata": {},
   "outputs": [
    {
     "data": {
      "text/plain": [
       "['funded_amnt',\n",
       " 'annual_inc',\n",
       " 'dti',\n",
       " 'open_acc',\n",
       " 'pub_rec',\n",
       " 'revol_bal',\n",
       " 'revol_util',\n",
       " 'total_acc',\n",
       " 'amnt_pct_inc']"
      ]
     },
     "execution_count": 162,
     "metadata": {},
     "output_type": "execute_result"
    }
   ],
   "source": [
    "numFeatures"
   ]
  },
  {
   "cell_type": "markdown",
   "metadata": {},
   "source": [
    "# Clean Data - Part 3 - Structure data"
   ]
  },
  {
   "cell_type": "markdown",
   "metadata": {},
   "source": [
    "We need to preprocess continuous data because the data doesn't have the same scale (and so Logistic Regression or SVM doesn't make sense). \n",
    "\n",
    "There are a few possibilities:\n",
    "1. preprocessing.scale (this removes the mean and divides by standard deviation)\n",
    "2. preprocessing.QuantileTransformer (this transforms the data into quantiles)\n",
    "\n",
    "Note: \n",
    "\n",
    "Both of these transformations work full sample and thus there will be an implicit \"look-ahead\" bias in any fit that does not apply the preprocessing to the train and test sets separately. We will ignore this bias for two reasons:\n",
    "a. simplicy and \n",
    "b. because given the data set (the large size) it is reasonable that the ranges would not be different for the in-sample and out-of sample (unless the ordering of the data leads to some bias).\n",
    "\n",
    "In practice, Lending Club has a range/quantile approach to how they look at the data, but it is probably defined by LC and not necessarily by the data (as in our case)\n",
    "\n",
    "Possible solution: randomize the order of the data prior to the fit. "
   ]
  },
  {
   "cell_type": "code",
   "execution_count": null,
   "metadata": {
    "collapsed": true
   },
   "outputs": [],
   "source": [
    "# version A: preprocessing.scale\n",
    "# loanDataNum = pd.DataFrame(preprocessing.scale(loanData9[numFeatures]), index=loanData9.index, columns=numFeatures)"
   ]
  },
  {
   "cell_type": "code",
   "execution_count": 163,
   "metadata": {
    "collapsed": true
   },
   "outputs": [],
   "source": [
    "# version B: preprocessing.QUantileTransformer\n",
    "qt = preprocessing.QuantileTransformer(n_quantiles=10,random_state=0)\n",
    "loanDataNum = pd.DataFrame()\n",
    "for ii in range(0, len(numFeatures)):\n",
    "    qt.fit_transform(loanData9[numFeatures[ii]].values.reshape(-1, 1))\n",
    "    loanDataNum = loanDataNum.join(\n",
    "        pd.DataFrame(qt.transform(loanData9[numFeatures[ii]].values.reshape(-1, 1)), index=loanData9.index, columns=[numFeatures[ii]]),how='right')"
   ]
  },
  {
   "cell_type": "markdown",
   "metadata": {},
   "source": [
    "VERSION 1 - for Logistic Regression and SVM we turn categorical variables into dummy variables"
   ]
  },
  {
   "cell_type": "code",
   "execution_count": 164,
   "metadata": {
    "collapsed": true
   },
   "outputs": [],
   "source": [
    "loanDataCat = pd.get_dummies(loanData9[catFeatures])"
   ]
  },
  {
   "cell_type": "code",
   "execution_count": 165,
   "metadata": {
    "collapsed": true
   },
   "outputs": [],
   "source": [
    "Y = loanData9['grade'].to_frame()\n",
    "Y.replace(to_replace='high', value='1', inplace=True)\n",
    "Y.replace(to_replace='low', value='0', inplace=True)\n",
    "Y = pd.to_numeric(Y.iloc[:,0], errors='coerce')\n",
    "Y = Y.to_frame()\n",
    "X = loanDataNum.join(loanDataCat, how='left')\n",
    "\n",
    "# used for full sample fit and cross-validation-score for Logistic Regression\n",
    "XX = X.values\n",
    "YY = Y.values.reshape(-1,)"
   ]
  },
  {
   "cell_type": "code",
   "execution_count": 166,
   "metadata": {
    "collapsed": true
   },
   "outputs": [],
   "source": [
    "np.random.seed(0)\n",
    "perm = np.random.permutation(range(0, YY.shape[0]))"
   ]
  },
  {
   "cell_type": "code",
   "execution_count": 167,
   "metadata": {
    "collapsed": true
   },
   "outputs": [],
   "source": [
    "trainIdx = perm[:int(np.floor(0.75*XX.shape[0]))]\n",
    "testIdx = perm[int(np.floor(0.75*XX.shape[0])):]"
   ]
  },
  {
   "cell_type": "code",
   "execution_count": 168,
   "metadata": {
    "collapsed": true
   },
   "outputs": [],
   "source": [
    "# use to test only one fit (e.g. random forest)\n",
    "XX_train = XX[trainIdx,:]\n",
    "XX_test = XX[testIdx,:]\n",
    "\n",
    "YY_train = YY[trainIdx]\n",
    "YY_test = YY[testIdx]"
   ]
  },
  {
   "cell_type": "markdown",
   "metadata": {},
   "source": [
    "VERSION 2 - for Decision Tree and Random Forest classifiers we turn categorical variables into labels"
   ]
  },
  {
   "cell_type": "code",
   "execution_count": 169,
   "metadata": {
    "collapsed": true
   },
   "outputs": [],
   "source": [
    "le = preprocessing.LabelEncoder()\n",
    "loanDataCat2 = pd.DataFrame()\n",
    "for ii in range(0, len(catFeatures)):\n",
    "    le.fit(loanData9[catFeatures[ii]])\n",
    "    loanDataCat2 = loanDataCat2.join(\n",
    "        pd.DataFrame(le.transform(loanData9[catFeatures[ii]]), index=loanData9.index, columns=[catFeatures[ii]]),how='right')\n",
    "\n",
    "X2 = loanDataNum.join(loanDataCat2, how='left')\n",
    "Y2 = Y.copy()\n",
    "\n",
    "# used for full sample fit and cross-validation-score for Decision Tree, SVM and Random Forest\n",
    "XX2 = X2.values\n",
    "YY2 = Y2.values.reshape(-1,)\n",
    "\n",
    "# use to test only one fit (e.g. random forest)\n",
    "XX2_train = XX2[trainIdx,:]\n",
    "XX2_test = XX2[testIdx,:]\n",
    "\n",
    "YY2_train = YY2[trainIdx]\n",
    "YY2_test = YY2[testIdx]"
   ]
  },
  {
   "cell_type": "code",
   "execution_count": 170,
   "metadata": {},
   "outputs": [
    {
     "name": "stdout",
     "output_type": "stream",
     "text": [
      "Number of \"high quality\" loans (i.e. Y=1) is 48.27%\n"
     ]
    }
   ],
   "source": [
    "# the data set is balanced (roughly equal number of the two states)\n",
    "print('Number of \\\"high quality\\\" loans (i.e. Y=1) is {:.2f}%'.format(100*float(Y.sum()/Y.shape[0])))"
   ]
  },
  {
   "cell_type": "markdown",
   "metadata": {},
   "source": [
    "General parameters:\n",
    "1. number of features\n",
    "2. number of quantiles\n",
    "3. number of folds in cross validation"
   ]
  },
  {
   "cell_type": "markdown",
   "metadata": {},
   "source": [
    "# Fit models\n",
    "\n",
    "Objectives (absolute and relative):\n",
    "1. good cross validation score\n",
    "2. the simpler the better\n",
    "3. the more interpretable the better\n",
    "\n",
    "We will try: logistic regression, decision tree, SVM, random forests.\n",
    "\n",
    "We will also take a look at the feature importances and their ranking so as to both get understanding and do a sanity check on whether the results make sense. "
   ]
  },
  {
   "cell_type": "code",
   "execution_count": 171,
   "metadata": {
    "collapsed": true
   },
   "outputs": [],
   "source": [
    "def runFit(clfStr, XX, YY, XX_train, YY_train, XX_test, YY_test):\n",
    "    if (clfStr=='lr'):\n",
    "        clf1 = LogisticRegression(penalty='l2', C=1e9)\n",
    "        clf2 = LogisticRegression(penalty='l2', C=1e9)\n",
    "        clf3 = LogisticRegression(penalty='l2', C=1e9)\n",
    "        \n",
    "    if (clfStr=='svm'):\n",
    "        clf1 = SVC()\n",
    "        clf2 = SVC()\n",
    "        clf3 = SVC()\n",
    "\n",
    "    if (clfStr=='dtc'):\n",
    "        clf1 = DecisionTreeClassifier(criterion='gini')\n",
    "        clf2 = DecisionTreeClassifier(criterion='gini')\n",
    "        clf3 = DecisionTreeClassifier(criterion='gini')\n",
    "        \n",
    "    if (clfStr=='rfc'):\n",
    "        clf1 = RandomForestClassifier(n_estimators=10)\n",
    "        clf2 = RandomForestClassifier(n_estimators=10)\n",
    "        clf3 = RandomForestClassifier(n_estimators=10)\n",
    "\n",
    "    # full sample\n",
    "    clf1.fit(XX,YY)\n",
    "    fss = clf1.score(XX,YY)        \n",
    "    \n",
    "    if clfStr == 'lr':\n",
    "        fi = clf1.coef_\n",
    "    elif clfStr == 'dtc' :\n",
    "        fi = clf1.feature_importances_\n",
    "    elif clfStr == 'rfc' :\n",
    "        fi = clf1.feature_importances_\n",
    "    else :\n",
    "        fi = np.nan\n",
    "        \n",
    "    # trainTest        \n",
    "    clf2.fit(XX_train, YY_train)\n",
    "    tts = clf2.score(XX_test, YY_test)\n",
    "        \n",
    "    # cross validation score\n",
    "    cvs = cross_val_score(clf3, XX, YY, cv=10)\n",
    "        \n",
    "    return fss, tts, cvs, fi "
   ]
  },
  {
   "cell_type": "code",
   "execution_count": 172,
   "metadata": {
    "collapsed": true
   },
   "outputs": [],
   "source": [
    "classifiers =['lr','dtc','svm','rfc'] \n",
    "fullSampleScores = []\n",
    "trainTestScores = []\n",
    "cvScores = []\n",
    "featureImportances = []\n",
    "\n",
    "for clfStr in classifiers:\n",
    "    if ((clfStr =='lr') | (clfStr == 'svm')):\n",
    "        fss, tts, cvs, fi = runFit(clfStr, XX, YY, XX_train, YY_train, XX_test, YY_test)\n",
    "    else:\n",
    "        fss, tts, cvs, fi = runFit(clfStr, XX2, YY2, XX2_train, YY2_train, XX2_test, YY2_test)\n",
    "    \n",
    "    fullSampleScores.append(fss)\n",
    "    trainTestScores.append(tts)\n",
    "    cvScores.append(cvs)\n",
    "    featureImportances.append(fi)"
   ]
  },
  {
   "cell_type": "markdown",
   "metadata": {},
   "source": [
    "Model parameters:\n",
    "\n",
    "A. LR:\n",
    "    1. type of optimization (l2, Ridge, Lasso)\n",
    "    2. optimization C\n",
    "B. DTC:\n",
    "    1. criterion (gini or entropy)\n",
    "    2. size of tree\n",
    "C. SVC:\n",
    "    1. kernel (linear, rbf)\n",
    "    2. gamma\n",
    "    3. optimization C\n",
    "D. RFC:\n",
    "    1. number of trees in forest\n",
    "    2. size of tree/forest\n"
   ]
  },
  {
   "cell_type": "markdown",
   "metadata": {},
   "source": [
    "# Model fit comparison"
   ]
  },
  {
   "cell_type": "code",
   "execution_count": 173,
   "metadata": {
    "scrolled": true
   },
   "outputs": [
    {
     "data": {
      "image/png": "[encoded data removed]",
      "text/plain": [
       "<matplotlib.figure.Figure at 0x11e941d30>"
      ]
     },
     "metadata": {},
     "output_type": "display_data"
    }
   ],
   "source": [
    "# full sample scores\n",
    "fssVec = np.array(fullSampleScores)\n",
    "ttsVec = np.array(trainTestScores)\n",
    "\n",
    "fig = plt.figure(figsize=(12,8))\n",
    "plt.plot(range(0,len(fssVec)), fssVec, label='full_sample')\n",
    "plt.plot(range(0,len(ttsVec)), ttsVec, label='train_test')\n",
    "plt.title('Scores: full sample and train/test')\n",
    "plt.xticks(range(len(classifiers)), classifiers, rotation=0)\n",
    "plt.legend(loc='best')\n",
    "plt.xlabel('classifier')\n",
    "plt.ylabel('score')\n",
    "plt.grid(b='on')\n",
    "plt.ylim([0.0,1.0])\n",
    "plt.show()\n",
    "fig.savefig('fullSampleTrainTest.png', bbox_inches='tight')"
   ]
  },
  {
   "cell_type": "code",
   "execution_count": 174,
   "metadata": {
    "collapsed": true
   },
   "outputs": [],
   "source": [
    "cvsDf = pd.DataFrame(columns=['score','classifier'])\n",
    "for c,ii in zip(classifiers, range(0,len(classifiers))):\n",
    "    auxDf = pd.DataFrame(data=cvScores[ii], index=range(len(cvScores[ii])),columns=['score'])\n",
    "    auxDf['classifier']= c  \n",
    "    cvsDf = cvsDf.append(auxDf, ignore_index=True)"
   ]
  },
  {
   "cell_type": "code",
   "execution_count": 175,
   "metadata": {},
   "outputs": [
    {
     "data": {
      "image/png": "[encoded data removed]",
      "text/plain": [
       "<matplotlib.figure.Figure at 0x11ea64f28>"
      ]
     },
     "metadata": {},
     "output_type": "display_data"
    }
   ],
   "source": [
    "fig = plt.figure(figsize=(12,8))\n",
    "sns.boxplot(x='classifier', y='score', data=cvsDf)\n",
    "plt.title('Distribution of cross validation score by classifier')\n",
    "plt.grid(b='on')\n",
    "plt.ylim([0,1])\n",
    "plt.show()\n",
    "fig.savefig('cross_val_score.png', bbox_inches='tight')"
   ]
  },
  {
   "cell_type": "code",
   "execution_count": 176,
   "metadata": {
    "collapsed": true
   },
   "outputs": [],
   "source": [
    "# feature importances (ranking)\n",
    "fiDf = pd.DataFrame()\n",
    "for c,ii in zip(classifiers, range(0,len(classifiers))):\n",
    "    fi = featureImportances[ii]\n",
    "    \n",
    "    if ((c =='lr') | (c == 'svm')):\n",
    "        auxFeat = X.columns\n",
    "    else:\n",
    "        auxFeat = X2.columns\n",
    "    if np.size(fi)==1:\n",
    "        fi = np.nan*np.zeros(shape=[len(auxFeat),1])\n",
    "    auxDf = pd.DataFrame(data=fi.reshape(len(auxFeat),1), index=auxFeat, columns=[c])\n",
    "    fiDf = fiDf.join(auxDf, how='outer')"
   ]
  },
  {
   "cell_type": "code",
   "execution_count": 177,
   "metadata": {
    "collapsed": true
   },
   "outputs": [],
   "source": [
    "fiDf2 = pd.DataFrame()\n",
    "for c,ii in zip(classifiers, range(0,len(classifiers))):\n",
    "    fi = featureImportances[ii]\n",
    "    \n",
    "    if ((c =='lr') | (c == 'svm')):\n",
    "        auxFeat = X.columns\n",
    "    else:\n",
    "        auxFeat = X2.columns\n",
    "    if np.size(fi)==1:\n",
    "        fi = np.nan*np.zeros(shape=[len(auxFeat),1])\n",
    "    auxData = np.concatenate((auxFeat.values.reshape(len(auxFeat),1),fi.reshape(len(auxFeat),1)),axis=1)\n",
    "    auxDf = pd.DataFrame(data=auxData, columns=[c+'_feature',c+'_rank'])\n",
    "    fiDf2 = fiDf2.join(auxDf,how='outer')"
   ]
  },
  {
   "cell_type": "code",
   "execution_count": null,
   "metadata": {
    "collapsed": true
   },
   "outputs": [],
   "source": [
    "fiDf2"
   ]
  },
  {
   "cell_type": "code",
   "execution_count": 178,
   "metadata": {
    "collapsed": true
   },
   "outputs": [],
   "source": [
    "fiDf3 = pd.DataFrame()\n",
    "for c,ii in zip(classifiers, range(0,len(classifiers))):\n",
    "    fi = featureImportances[ii]\n",
    "    \n",
    "    if ((c =='lr') | (c == 'svm')):\n",
    "        auxFeat = X.columns\n",
    "    else:\n",
    "        auxFeat = X2.columns\n",
    "    if np.size(fi)==1:\n",
    "        fi = np.nan*np.zeros(shape=[len(auxFeat),1])\n",
    "        \n",
    "    auxDf = pd.DataFrame(data=fi.reshape(len(auxFeat),1), index=auxFeat, columns=[c+'_imp'])\n",
    "    if c=='lr':\n",
    "        auxDf = auxDf.applymap(lambda x: np.abs(x))\n",
    "        \n",
    "    auxDf[c+'_rank'] = auxDf.rank(axis=0, ascending=True)\n",
    "    maxVal = auxDf[c+'_rank'].max()\n",
    "    auxDf[c+'_rank'] = 100/maxVal*auxDf[c+'_rank']\n",
    "    \n",
    "    fiDf3 = fiDf3.join(auxDf,how='outer')"
   ]
  },
  {
   "cell_type": "code",
   "execution_count": 179,
   "metadata": {
    "collapsed": true
   },
   "outputs": [],
   "source": [
    "fiDf3.drop([c+'_imp' for c in classifiers], axis=1, inplace=True)"
   ]
  },
  {
   "cell_type": "code",
   "execution_count": 180,
   "metadata": {
    "collapsed": true
   },
   "outputs": [],
   "source": [
    "fiDf3.drop(['svm_rank'], axis=1, inplace=True)"
   ]
  },
  {
   "cell_type": "code",
   "execution_count": 181,
   "metadata": {
    "collapsed": true
   },
   "outputs": [],
   "source": [
    "fiDf3 = fiDf3.applymap(lambda x: np.floor(x))"
   ]
  },
  {
   "cell_type": "code",
   "execution_count": 182,
   "metadata": {},
   "outputs": [
    {
     "data": {
      "image/png": "[encoded data removed]",
      "text/plain": [
       "<matplotlib.figure.Figure at 0x11e941128>"
      ]
     },
     "metadata": {},
     "output_type": "display_data"
    }
   ],
   "source": [
    "fig = plt.figure(figsize=(12,8))\n",
    "for c in fiDf3.columns:\n",
    "    plt.plot(range(0,fiDf3.shape[0]), fiDf3[c], label=c)\n",
    "\n",
    "plt.title('Feature rank')\n",
    "plt.xticks(range(0,fiDf3.shape[0]), fiDf3.index, rotation=90)\n",
    "plt.ylim([0,100])\n",
    "plt.grid(b='on')\n",
    "plt.legend(loc='best')\n",
    "plt.xlabel('Feature')\n",
    "plt.ylabel('Feature rank')\n",
    "plt.show()\n",
    "fig.savefig('feature_rank.png', bbox_inches='tight')"
   ]
  },
  {
   "cell_type": "code",
   "execution_count": 187,
   "metadata": {},
   "outputs": [],
   "source": [
    "lrCoeff = pd.DataFrame(featureImportances[0].reshape(-1,1), index=X.columns, columns=['Coefficient'])"
   ]
  },
  {
   "cell_type": "code",
   "execution_count": 192,
   "metadata": {},
   "outputs": [],
   "source": [
    "lrCoeff.sort_values(by=['Coefficient'],ascending=False, inplace=True)"
   ]
  },
  {
   "cell_type": "code",
   "execution_count": 195,
   "metadata": {},
   "outputs": [
    {
     "data": {
      "image/png": "[encoded data removed]",
      "text/plain": [
       "<matplotlib.figure.Figure at 0x11b7ff518>"
      ]
     },
     "metadata": {},
     "output_type": "display_data"
    }
   ],
   "source": [
    "fig = plt.figure()\n",
    "\n",
    "y_pos = np.arange(lrCoeff.shape[0])\n",
    "auxData = lrCoeff['Coefficient'].values\n",
    " \n",
    "plt.bar(y_pos, auxData, align='center', alpha=1)\n",
    "plt.xticks(y_pos, lrCoeff.index, rotation=90)\n",
    "plt.ylabel('Coefficient')\n",
    "plt.ylim([-8,8])\n",
    "plt.title('Logistic regression coefficients')\n",
    " \n",
    "plt.show()\n",
    "fig.savefig('lr_coefficients.png',bbox_inches='tight')"
   ]
  },
  {
   "cell_type": "code",
   "execution_count": null,
   "metadata": {
    "collapsed": true
   },
   "outputs": [],
   "source": []
  }
 ],
 "metadata": {
  "kernelspec": {
   "display_name": "Python 3",
   "language": "python",
   "name": "python3"
  },
  "language_info": {
   "codemirror_mode": {
    "name": "ipython",
    "version": 3
   },
   "file_extension": ".py",
   "mimetype": "text/x-python",
   "name": "python",
   "nbconvert_exporter": "python",
   "pygments_lexer": "ipython3",
   "version": "3.6.2"
  }
 },
 "nbformat": 4,
 "nbformat_minor": 2
}
